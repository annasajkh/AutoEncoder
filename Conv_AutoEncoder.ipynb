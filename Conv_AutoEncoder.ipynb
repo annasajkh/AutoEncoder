{
  "nbformat": 4,
  "nbformat_minor": 0,
  "metadata": {
    "colab": {
      "name": "Conv AutoEncoder.ipynb",
      "provenance": [],
      "collapsed_sections": [],
      "include_colab_link": true
    },
    "kernelspec": {
      "display_name": "Python 3",
      "name": "python3"
    },
    "language_info": {
      "name": "python"
    },
    "accelerator": "GPU"
  },
  "cells": [
    {
      "cell_type": "markdown",
      "metadata": {
        "id": "view-in-github",
        "colab_type": "text"
      },
      "source": [
        "<a href=\"https://colab.research.google.com/github/annasajkh/AutoEncoder/blob/main/Conv_AutoEncoder.ipynb\" target=\"_parent\"><img src=\"https://colab.research.google.com/assets/colab-badge.svg\" alt=\"Open In Colab\"/></a>"
      ]
    },
    {
      "cell_type": "code",
      "metadata": {
        "id": "VxMGLpURFNS1"
      },
      "source": [
        "import os\n",
        "os.environ[\"KAGGLE_CONFIG_DIR\"] = \"/content/drive/MyDrive/kaggle\"\n",
        "\n",
        "!kaggle datasets download -d greatgamedota/ffhq-face-data-set"
      ],
      "execution_count": null,
      "outputs": []
    },
    {
      "cell_type": "code",
      "metadata": {
        "id": "_MiirqR5u1nq"
      },
      "source": [
        "!unzip ffhq-face-data-set.zip"
      ],
      "execution_count": null,
      "outputs": []
    },
    {
      "cell_type": "code",
      "metadata": {
        "id": "mj7kVl2Ev9ry"
      },
      "source": [
        "import glob\n",
        "from PIL import Image\n",
        "import numpy as np\n",
        "\n",
        "imgs = []\n",
        "\n",
        "count = 0\n",
        "\n",
        "for file in glob.glob(\"thumbnails128x128/*\"):\n",
        "  imgs.append(np.array(Image.open(file).resize((64,64))) / 255)\n",
        "  count += 1\n",
        "\n",
        "  if count == 20_000:\n",
        "    break\n",
        "\n",
        "np.save(\"face_dataset.npy\", np.array(imgs))"
      ],
      "execution_count": null,
      "outputs": []
    },
    {
      "cell_type": "code",
      "metadata": {
        "colab": {
          "base_uri": "https://localhost:8080/"
        },
        "id": "1FVS-CP4SoA-",
        "outputId": "7eb3e835-22e5-4e82-959f-34ca991bb951"
      },
      "source": [
        "from google.colab import drive\n",
        "drive.mount('/content/drive')"
      ],
      "execution_count": null,
      "outputs": [
        {
          "output_type": "stream",
          "name": "stdout",
          "text": [
            "Mounted at /content/drive\n"
          ]
        }
      ]
    },
    {
      "cell_type": "code",
      "metadata": {
        "id": "24CX3YTrE4Qp"
      },
      "source": [
        "%cp drive/MyDrive/face_dataset.npy /content/"
      ],
      "execution_count": null,
      "outputs": []
    },
    {
      "cell_type": "code",
      "metadata": {
        "id": "i1jutDDoGCdT"
      },
      "source": [
        "from torch.nn.modules.linear import Linear\n",
        "import torch\n",
        "import torch.nn as nn\n",
        "from torch.optim import Adam\n",
        "from tqdm import tqdm\n",
        "import numpy as np\n",
        "\n",
        "class AutoEncoder(nn.Module):\n",
        "  def __init__(self):\n",
        "    super(AutoEncoder, self).__init__()\n",
        "\n",
        "    self.encoder = nn.Sequential(\n",
        "      nn.Conv2d(3, 120, kernel_size=3),\n",
        "      nn.LeakyReLU(True),\n",
        "      nn.MaxPool2d(2, 2),\n",
        "\n",
        "      nn.Conv2d(120, 160, kernel_size=5),\n",
        "      nn.LeakyReLU(True),\n",
        "      nn.MaxPool2d(2, 2),\n",
        "\n",
        "      nn.Conv2d(160, 200, kernel_size=3),\n",
        "      nn.LeakyReLU(True),\n",
        "      nn.MaxPool2d(2, 2),\n",
        "\n",
        "      nn.Flatten()\n",
        "    )\n",
        "\n",
        "    self.fc1 = nn.Sequential(\n",
        "      nn.Linear(5000, 500),\n",
        "      nn.Tanh()\n",
        "    )\n",
        "\n",
        "    self.fc2 = nn.Sequential(\n",
        "      nn.Linear(500, 5000),\n",
        "      nn.Tanh()\n",
        "    )\n",
        "\n",
        "\n",
        "    self.decoder = nn.Sequential(      \n",
        "      nn.ConvTranspose2d(200, 160, kernel_size=3, stride=2),\n",
        "      nn.LeakyReLU(True),\n",
        "\n",
        "      nn.ConvTranspose2d(160, 120, kernel_size=2, stride=3),\n",
        "      nn.LeakyReLU(True),\n",
        "\n",
        "      nn.ConvTranspose2d(120, 3, kernel_size=2, stride=2),\n",
        "      nn.Sigmoid()\n",
        "    )\n",
        "\n",
        "  def forward(self, x):\n",
        "    x = self.encode(x)\n",
        "    x = self.decode(x)\n",
        "    return x\n",
        "  \n",
        "  def encode(self, x):\n",
        "    x = self.encoder(x)\n",
        "    x = self.fc1(x)\n",
        "    return x\n",
        "\n",
        "  def decode(self, x):\n",
        "    x = self.fc2(x)\n",
        "    x = x.view(x.shape[0], 200, 5, 5)\n",
        "    x = self.decoder(x)\n",
        "    return x\n",
        "\n",
        "\n",
        "model = AutoEncoder()\n",
        "optimizer = Adam(model.parameters(), lr=0.0001)\n",
        "loss_function = nn.BCELoss()\n",
        "\n",
        "if torch.cuda.is_available():\n",
        "    model = model.cuda()\n",
        "    loss_function = loss_function.cuda()\n"
      ],
      "execution_count": null,
      "outputs": []
    },
    {
      "cell_type": "code",
      "metadata": {
        "id": "ZFu2EIBBHhY8"
      },
      "source": [
        "from tqdm import tqdm\n",
        "\n",
        "epoch = 10_000\n",
        "\n",
        "dataset = torch.from_numpy(np.load(\"face_dataset.npy\")).float()\n",
        "\n",
        "if torch.cuda.is_available():\n",
        "  dataset = dataset.cuda()\n",
        "\n",
        "dataset = dataset.view(len(dataset), 3, 64, 64)\n",
        "\n",
        "batch_size = 32"
      ],
      "execution_count": null,
      "outputs": []
    },
    {
      "cell_type": "code",
      "metadata": {
        "id": "XrZTpEI1Fymu"
      },
      "source": [
        "for _ in tqdm(range(epoch)):\n",
        "  for i in range(1, int(len(dataset) / batch_size)):\n",
        "    data = dataset[(i-1)*batch_size:i*batch_size]\n",
        "    \n",
        "    optimizer.zero_grad()\n",
        "    output = model(data)\n",
        "\n",
        "    loss = loss_function(output, data)\n",
        "    loss.backward()\n",
        "    optimizer.step()"
      ],
      "execution_count": null,
      "outputs": []
    }
  ]
}